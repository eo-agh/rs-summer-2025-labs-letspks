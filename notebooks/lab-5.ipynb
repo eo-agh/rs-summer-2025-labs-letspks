{
 "cells": [
  {
   "cell_type": "markdown",
   "id": "0f11c463",
   "metadata": {},
   "source": [
    "# Lab 5: Land Surface Temperature using CORINE-based Emissivity"
   ]
  },
  {
   "cell_type": "markdown",
   "id": "290155fd",
   "metadata": {},
   "source": [
    "## 🎯 Objectives\n",
    "In this exercise, you will:\n",
    "- Select a cloud-free Landsat 8 images from 2013 and 2023 (or different if you're sure that you'll spot a difference in land cover)\n",
    "- Calculate Brightness Temperature (TB) from Band 10.\n",
    "- Load CORINE Land Cover data and assign emissivity values to each land cover class.\n",
    "- Use the Planck-based formula to calculate Land Surface Temperature (LST).\n",
    "- Visualize and interpret the results."
   ]
  },
  {
   "cell_type": "markdown",
   "id": "16d50ca3",
   "metadata": {},
   "source": [
    "## Step 1: Define Area of Interest (AOI)\n",
    "- Use coordinates around Reduta street in Kraków.\n",
    "- Create a polygon or rectangle using `ee.Geometry.Polygon`."
   ]
  },
  {
   "cell_type": "code",
   "execution_count": 3,
   "id": "9a13c0ee",
   "metadata": {},
   "outputs": [
    {
     "name": "stdout",
     "output_type": "stream",
     "text": [
      "{'type': 'Polygon', 'coordinates': [[[21.449994, 49.73374], [21.494039, 49.73374], [21.494039, 49.759334], [21.449994, 49.759334], [21.449994, 49.73374]]]}\n"
     ]
    }
   ],
   "source": [
    "# Define AOI here\n",
    "import ee\n",
    "#ee.Authenticate()\n",
    "#ee.Initialize(project='ee-piotrkrajewski')\n",
    "\n",
    "aoi = ee.Geometry.Rectangle([21.449994, 49.733740, 21.494039, 49.759334 ])  # Example coordinates for Jasło, Poland\n",
    "print(aoi.getInfo())\n"
   ]
  },
  {
   "cell_type": "markdown",
   "id": "116de1cc",
   "metadata": {},
   "source": [
    "## Step 2: Load Landsat 8 imagery for the dates you've picked\n",
    "- Filter for low cloud cover (< 20%)\n",
    "- Select Band 10 and convert to TB using: `TB = ST_B10 * 0.00341802 + 149.0`"
   ]
  },
  {
   "cell_type": "code",
   "execution_count": null,
   "id": "bdb32790",
   "metadata": {},
   "outputs": [
    {
     "data": {
      "text/html": [
       "\n",
       "            <style>\n",
       "                .geemap-dark {\n",
       "                    --jp-widgets-color: white;\n",
       "                    --jp-widgets-label-color: white;\n",
       "                    --jp-ui-font-color1: white;\n",
       "                    --jp-layout-color2: #454545;\n",
       "                    background-color: #383838;\n",
       "                }\n",
       "\n",
       "                .geemap-dark .jupyter-button {\n",
       "                    --jp-layout-color3: #383838;\n",
       "                }\n",
       "\n",
       "                .geemap-colab {\n",
       "                    background-color: var(--colab-primary-surface-color, white);\n",
       "                }\n",
       "\n",
       "                .geemap-colab .jupyter-button {\n",
       "                    --jp-layout-color3: var(--colab-primary-surface-color, white);\n",
       "                }\n",
       "            </style>\n",
       "            "
      ],
      "text/plain": [
       "<IPython.core.display.HTML object>"
      ]
     },
     "metadata": {},
     "output_type": "display_data"
    },
    {
     "name": "stdout",
     "output_type": "stream",
     "text": [
      "2013-08-09\n",
      "2023-08-13\n"
     ]
    },
    {
     "data": {
      "application/vnd.jupyter.widget-view+json": {
       "model_id": "6b6dbc8f379942d18927c99432cff45d",
       "version_major": 2,
       "version_minor": 0
      },
      "text/plain": [
       "Map(center=[49.74653796191832, 21.472016499992947], controls=(WidgetControl(options=['position', 'transparent_…"
      ]
     },
     "execution_count": 27,
     "metadata": {},
     "output_type": "execute_result"
    }
   ],
   "source": [
    "# Load image and calculate TB\n",
    "import geemap \n",
    "start_2013 = ee.Date('2013-08-01') \n",
    "end_2013 = ee.Date('2013-08-30')\n",
    "start_2024 = ee.Date('2023-08-01') # one week of difference\n",
    "end_2024 = ee.Date('2023-08-30')\n",
    "\n",
    "image_2013 = ee.ImageCollection('LANDSAT/LC08/C02/T1_L2').filterBounds(aoi).filterDate(start_2013, end_2013).filterMetadata('CLOUD_COVER', 'less_than', 20).first()\n",
    "image_2024 = ee.ImageCollection('LANDSAT/LC09/C02/T1_L2').filterBounds(aoi).filterDate(start_2024, end_2024).filterMetadata('CLOUD_COVER', 'less_than', 20).first()\n",
    "image_2013 = image_2013.clip(aoi)\n",
    "image_2024 = image_2024.clip(aoi)\n",
    "dateofimage_2013 = image_2013.date().format('YYYY-MM-dd').getInfo()\n",
    "dateofimage_2024 = image_2024.date().format('YYYY-MM-dd').getInfo()\n",
    "print(dateofimage_2013)\n",
    "print(dateofimage_2024)\n",
    "vis_params = {\n",
    "    'bands': ['SR_B4', 'SR_B3', 'SR_B2'],\n",
    "    'min': 5000,\n",
    "    'max': 15000,\n",
    "    'gamma': 1.3\n",
    "}\n",
    "center = aoi.centroid(10).coordinates().reverse().getInfo()\n",
    "\n",
    "Map = geemap.Map(center=center, zoom=15)\n",
    "\n",
    "Map.addLayer(image_2013, vis_params, 'Landsat 2013-08-09')\n",
    "Map.addLayer(image_2024, vis_params, '2023-08-13')\n",
    "\n",
    "Map\n",
    "\n",
    "bt_2013 = image_2013.select('ST_B10').multiply(0.00341802).add(149.0)\n",
    "bt_2024 = image_2024.select('ST_B10').multiply(0.00341802).add(149.0)\n",
    "\n",
    "\n",
    "thermal_vis = {\n",
    "    'min': 290,\n",
    "    'max': 320,\n",
    "    'palette': ['blue', 'green',  'red']\n",
    "}\n",
    "\n",
    "center = aoi.centroid(10).coordinates().reverse().getInfo()\n",
    "Map = geemap.Map(center=center, zoom=15)\n",
    "Map.addLayer(bt_2013, thermal_vis, '2013 Brightness Temp')\n",
    "Map.addLayer(bt_2024, thermal_vis, '2024 Brightness Temp')\n",
    "Map\n"
   ]
  },
  {
   "cell_type": "markdown",
   "id": "57c2c4ea",
   "metadata": {},
   "source": [
    "## Step 3: Load CORINE Land Cover data\n",
    "- Use dataset `COPERNICUS/CORINE/V20/100m/2018`\n",
    "- Clip it to your AOI"
   ]
  },
  {
   "cell_type": "code",
   "execution_count": 28,
   "id": "815fa4f6",
   "metadata": {},
   "outputs": [
    {
     "data": {
      "text/html": [
       "\n",
       "            <style>\n",
       "                .geemap-dark {\n",
       "                    --jp-widgets-color: white;\n",
       "                    --jp-widgets-label-color: white;\n",
       "                    --jp-ui-font-color1: white;\n",
       "                    --jp-layout-color2: #454545;\n",
       "                    background-color: #383838;\n",
       "                }\n",
       "\n",
       "                .geemap-dark .jupyter-button {\n",
       "                    --jp-layout-color3: #383838;\n",
       "                }\n",
       "\n",
       "                .geemap-colab {\n",
       "                    background-color: var(--colab-primary-surface-color, white);\n",
       "                }\n",
       "\n",
       "                .geemap-colab .jupyter-button {\n",
       "                    --jp-layout-color3: var(--colab-primary-surface-color, white);\n",
       "                }\n",
       "            </style>\n",
       "            "
      ],
      "text/plain": [
       "<IPython.core.display.HTML object>"
      ]
     },
     "metadata": {},
     "output_type": "display_data"
    },
    {
     "data": {
      "application/vnd.jupyter.widget-view+json": {
       "model_id": "6b6dbc8f379942d18927c99432cff45d",
       "version_major": 2,
       "version_minor": 0
      },
      "text/plain": [
       "Map(bottom=713884.0, center=[49.74048251739346, 21.487756448199082], controls=(WidgetControl(options=['positio…"
      ]
     },
     "execution_count": 28,
     "metadata": {},
     "output_type": "execute_result"
    }
   ],
   "source": [
    "# Load CORINE dataset and clip to AOI\n",
    "corine = ee.Image('COPERNICUS/CORINE/V20/100m/2018').clip(aoi)\n",
    "\n",
    "# Add CORINE layer to the map for visualization\n",
    "corine_vis = {\n",
    "    'min': 111,\n",
    "    'max': 999,\n",
    "    'palette': ['006400', 'ffbb22', 'ffff4c', 'f096ff', 'fa0000', 'b4b4b4', 'f0f0f0', '0064c8', '0096a0', '00cf75']\n",
    "}\n",
    "Map.addLayer(corine, corine_vis, 'CORINE Land Cover 2018')\n",
    "Map"
   ]
  },
  {
   "cell_type": "markdown",
   "id": "d9991cfc",
   "metadata": {},
   "source": [
    "## Step 4: Assign emissivity to CORINE classes\n",
    "- Use a dictionary for classes\n",
    "- Use `remap()` and optionally a default value"
   ]
  },
  {
   "cell_type": "code",
   "execution_count": 29,
   "id": "3d027423",
   "metadata": {},
   "outputs": [
    {
     "data": {
      "text/html": [
       "\n",
       "            <style>\n",
       "                .geemap-dark {\n",
       "                    --jp-widgets-color: white;\n",
       "                    --jp-widgets-label-color: white;\n",
       "                    --jp-ui-font-color1: white;\n",
       "                    --jp-layout-color2: #454545;\n",
       "                    background-color: #383838;\n",
       "                }\n",
       "\n",
       "                .geemap-dark .jupyter-button {\n",
       "                    --jp-layout-color3: #383838;\n",
       "                }\n",
       "\n",
       "                .geemap-colab {\n",
       "                    background-color: var(--colab-primary-surface-color, white);\n",
       "                }\n",
       "\n",
       "                .geemap-colab .jupyter-button {\n",
       "                    --jp-layout-color3: var(--colab-primary-surface-color, white);\n",
       "                }\n",
       "            </style>\n",
       "            "
      ],
      "text/plain": [
       "<IPython.core.display.HTML object>"
      ]
     },
     "metadata": {},
     "output_type": "display_data"
    }
   ],
   "source": [
    "# Create emissivity image\n",
    "\n",
    "emissivity_dict = {\n",
    "    111: 0.92,  # Continuous urban fabric\n",
    "    112: 0.92,  # Discontinuous urban fabric\n",
    "    121: 0.91,  # Industrial or commercial units\n",
    "    211: 0.96,  # Non-irrigated arable land\n",
    "    311: 0.98,  # Forests\n",
    "    412: 0.97,  # Peat bogs\n",
    "    324: 0.96,  # Transitional woodland-shrub\n",
    "    231: 0.97   # Pastures\n",
    "}\n",
    "emmisivity_image = ee.Image(0).rename('emissivity')\n",
    "for code, emissivity in emissivity_dict.items():\n",
    "    mask = corine.eq(code)\n",
    "    emmisivity_image = emmisivity_image.where(mask, emissivity)"
   ]
  },
  {
   "cell_type": "markdown",
   "id": "dd518aea",
   "metadata": {},
   "source": [
    "## Step 5: Calculate LST using the formula:\n",
    "$$\n",
    "LST = \\frac{T_B}{1 + \\left( \\frac{\\lambda \\cdot T_B}{c_2} \\right) \\cdot \\ln(\\varepsilon)}\n",
    "$$\n",
    "- λ = 10.8 µm\n",
    "- c₂ = 14388 µm·K"
   ]
  },
  {
   "cell_type": "code",
   "execution_count": null,
   "id": "171008bc",
   "metadata": {},
   "outputs": [
    {
     "data": {
      "text/html": [
       "\n",
       "            <style>\n",
       "                .geemap-dark {\n",
       "                    --jp-widgets-color: white;\n",
       "                    --jp-widgets-label-color: white;\n",
       "                    --jp-ui-font-color1: white;\n",
       "                    --jp-layout-color2: #454545;\n",
       "                    background-color: #383838;\n",
       "                }\n",
       "\n",
       "                .geemap-dark .jupyter-button {\n",
       "                    --jp-layout-color3: #383838;\n",
       "                }\n",
       "\n",
       "                .geemap-colab {\n",
       "                    background-color: var(--colab-primary-surface-color, white);\n",
       "                }\n",
       "\n",
       "                .geemap-colab .jupyter-button {\n",
       "                    --jp-layout-color3: var(--colab-primary-surface-color, white);\n",
       "                }\n",
       "            </style>\n",
       "            "
      ],
      "text/plain": [
       "<IPython.core.display.HTML object>"
      ]
     },
     "metadata": {},
     "output_type": "display_data"
    },
    {
     "data": {
      "application/vnd.jupyter.widget-view+json": {
       "model_id": "6b6dbc8f379942d18927c99432cff45d",
       "version_major": 2,
       "version_minor": 0
      },
      "text/plain": [
       "Map(bottom=713884.0, center=[49.74048251739346, 21.487756448199082], controls=(WidgetControl(options=['positio…"
      ]
     },
     "execution_count": 30,
     "metadata": {},
     "output_type": "execute_result"
    }
   ],
   "source": [
    "# Calculate LST\n",
    "\n",
    "lambda_val = 10.8e-6  \n",
    "c2 = 1.4388e-2  \n",
    "\n",
    "lst_2013 = bt_2013.expression(\n",
    "    'TB / (1 + (lambda * TB / c2) * log(emissivity))',\n",
    "    {\n",
    "        'TB': bt_2013,\n",
    "        'lambda': lambda_val,\n",
    "        'c2': c2,\n",
    "        'emissivity': emmisivity_image\n",
    "    }\n",
    ")\n",
    "\n",
    "lst_2024 = bt_2024.expression(\n",
    "    'TB / (1 + (lambda * TB / c2) * log(emissivity))',\n",
    "    {\n",
    "        'TB': bt_2024,\n",
    "        'lambda': lambda_val,\n",
    "        'c2': c2,\n",
    "        'emissivity': emmisivity_image\n",
    "    }\n",
    ")\n",
    "\n"
   ]
  },
  {
   "cell_type": "markdown",
   "id": "ffdeffa4",
   "metadata": {},
   "source": [
    "## Step 6: Visualize the LST result\n",
    "- Use palette: `['blue', 'yellow', 'red']`\n",
    "- Suggested range: `min=290`, `max=325`"
   ]
  },
  {
   "cell_type": "code",
   "execution_count": null,
   "id": "b4d0f08e",
   "metadata": {},
   "outputs": [],
   "source": [
    "# Visualize LST\n",
    "lst_vis = {\n",
    "    'min': 290,\n",
    "    'max': 325,\n",
    "    'palette': ['blue', 'yellow', 'red']\n",
    "}\n",
    "Map.addLayer(lst_2013, lst_vis, 'LST 2013')\n",
    "Map.addLayer(lst_2024, lst_vis, 'LST 2024')\n",
    "Map"
   ]
  },
  {
   "cell_type": "markdown",
   "id": "74c186bf",
   "metadata": {},
   "source": [
    "## Step 7: (Optional) Analyze statistics by land cover class"
   ]
  },
  {
   "cell_type": "code",
   "execution_count": null,
   "id": "05596938",
   "metadata": {},
   "outputs": [],
   "source": [
    "# Optionally compute zonal statistics"
   ]
  },
  {
   "cell_type": "markdown",
   "id": "40c948a6",
   "metadata": {},
   "source": [
    "## Step 8: (Optional - Easter Egg :)) Generate your own Land Cover Classification using TerraTorch and foundation models*\n",
    "\n",
    "Based on the example/tutorial: https://aiforgood.itu.int/event/workshop-earth-observation-foundation-models-with-prithvi-eo-2-0-and-terratorch/\n",
    "\n",
    "*to earn 5.0 grade that will make a great impact on your final grade"
   ]
  },
  {
   "cell_type": "markdown",
   "id": "d4178201",
   "metadata": {},
   "source": []
  },
  {
   "cell_type": "markdown",
   "id": "7092e98e",
   "metadata": {},
   "source": []
  }
 ],
 "metadata": {
  "kernelspec": {
   "display_name": "eo_lab",
   "language": "python",
   "name": "python3"
  },
  "language_info": {
   "codemirror_mode": {
    "name": "ipython",
    "version": 3
   },
   "file_extension": ".py",
   "mimetype": "text/x-python",
   "name": "python",
   "nbconvert_exporter": "python",
   "pygments_lexer": "ipython3",
   "version": "3.9.21"
  }
 },
 "nbformat": 4,
 "nbformat_minor": 5
}
