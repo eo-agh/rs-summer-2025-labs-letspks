{
 "cells": [
  {
   "cell_type": "markdown",
   "id": "d3ac2b14",
   "metadata": {},
   "source": [
    "# Lab 4: Urban Heat Island Detection using Thermal Satellite Imagery"
   ]
  },
  {
   "cell_type": "markdown",
   "id": "94a259ca",
   "metadata": {},
   "source": [
    "## Goal\n",
    "In this exercise, you will:\n",
    "1. Select and compare two thermal satellite images from Kraków (or another city that has recently undergone intensive, thoughtless concrete development) – one from **2013** and one from **2024**.\n",
    "2. Each image must be acquired on a **hot summer day** (T > 27°C based on IMGW meteorological data).\n",
    "3. Images must have **low cloud cover** (< 20%).\n",
    "4. Visualize thermal data and analyze surface temperature differences (Urban Heat Island effect)."
   ]
  },
  {
   "cell_type": "markdown",
   "id": "cfa7c6b9",
   "metadata": {},
   "source": [
    "## Task 1: Area of Interest (AOI)\n",
    "- Define an AOI over the Reduta Street area in Kraków.\n",
    "- Use `ee.Geometry.Polygon` or `ee.Geometry.Rectangle`."
   ]
  },
  {
   "cell_type": "code",
   "execution_count": null,
   "id": "8258af66",
   "metadata": {},
   "outputs": [
    {
     "data": {
      "text/html": [
       "\n",
       "            <style>\n",
       "                .geemap-dark {\n",
       "                    --jp-widgets-color: white;\n",
       "                    --jp-widgets-label-color: white;\n",
       "                    --jp-ui-font-color1: white;\n",
       "                    --jp-layout-color2: #454545;\n",
       "                    background-color: #383838;\n",
       "                }\n",
       "\n",
       "                .geemap-dark .jupyter-button {\n",
       "                    --jp-layout-color3: #383838;\n",
       "                }\n",
       "\n",
       "                .geemap-colab {\n",
       "                    background-color: var(--colab-primary-surface-color, white);\n",
       "                }\n",
       "\n",
       "                .geemap-colab .jupyter-button {\n",
       "                    --jp-layout-color3: var(--colab-primary-surface-color, white);\n",
       "                }\n",
       "            </style>\n",
       "            "
      ],
      "text/plain": [
       "<IPython.core.display.HTML object>"
      ]
     },
     "metadata": {},
     "output_type": "display_data"
    },
    {
     "name": "stdout",
     "output_type": "stream",
     "text": [
      "{'type': 'Polygon', 'coordinates': [[[21.375851, 49.765839], [21.905091, 49.765839], [21.905091, 49.977559], [21.375851, 49.977559], [21.375851, 49.765839]]]}\n"
     ]
    }
   ],
   "source": [
    "import ee\n",
    "ee.Authenticate()\n",
    "ee.Initialize(project='ee-piotrkrajewski')\n",
    "\n",
    "aoi = ee.Geometry.Rectangle([21.775851, 49.865839, 21.805091, 49.877559])  # Example coordinates for strzyzow\n",
    "print(aoi.getInfo())\n"
   ]
  },
  {
   "cell_type": "markdown",
   "id": "7817c68e",
   "metadata": {},
   "source": [
    "## Task 2: Download and Analyze IMGW Meteorological Data\n",
    "- Visit: [IMGW Archive](https://danepubliczne.imgw.pl/data/dane_pomiarowo_obserwacyjne/)\n",
    "- Navigate to:\n",
    "  - `dane_meteorologiczne/dobowe/synop/2013/`\n",
    "  - `dane_meteorologiczne/dobowe/synop/2024/`\n",
    "- Download `s_d_tmax.csv` for both years.\n",
    "- Filter the rows for **station ID 12566 (e.g. Kraków-Balice)**.\n",
    "- Identify days in **July or August** with **TMAX > 27°C**."
   ]
  },
  {
   "cell_type": "code",
   "execution_count": 47,
   "id": "a35b1e22",
   "metadata": {},
   "outputs": [
    {
     "data": {
      "text/html": [
       "\n",
       "            <style>\n",
       "                .geemap-dark {\n",
       "                    --jp-widgets-color: white;\n",
       "                    --jp-widgets-label-color: white;\n",
       "                    --jp-ui-font-color1: white;\n",
       "                    --jp-layout-color2: #454545;\n",
       "                    background-color: #383838;\n",
       "                }\n",
       "\n",
       "                .geemap-dark .jupyter-button {\n",
       "                    --jp-layout-color3: #383838;\n",
       "                }\n",
       "\n",
       "                .geemap-colab {\n",
       "                    background-color: var(--colab-primary-surface-color, white);\n",
       "                }\n",
       "\n",
       "                .geemap-colab .jupyter-button {\n",
       "                    --jp-layout-color3: var(--colab-primary-surface-color, white);\n",
       "                }\n",
       "            </style>\n",
       "            "
      ],
      "text/plain": [
       "<IPython.core.display.HTML object>"
      ]
     },
     "metadata": {},
     "output_type": "display_data"
    },
    {
     "name": "stdout",
     "output_type": "stream",
     "text": [
      "Requirement already satisfied: fsspec in c:\\users\\piotrek\\anaconda3\\envs\\eo_lab\\lib\\site-packages (2025.3.2)\n",
      "Note: you may need to restart the kernel to use updated packages.\n",
      "\n",
      "2013: 0 days with TMAX > 27°C\n",
      "Empty DataFrame\n",
      "Columns: [Date, TMAX]\n",
      "Index: []\n",
      "\n",
      "2024: 21 days with TMAX > 27°C\n",
      "          Date  TMAX\n",
      "775 2024-07-01  29.3\n",
      "780 2024-07-06  29.3\n",
      "781 2024-07-07  32.3\n",
      "783 2024-07-09  30.3\n",
      "784 2024-07-10  32.3\n",
      "785 2024-07-11  34.3\n",
      "786 2024-07-12  32.8\n",
      "787 2024-07-13  35.9\n",
      "788 2024-07-14  28.3\n",
      "789 2024-07-15  29.8\n",
      "790 2024-07-16  33.3\n",
      "791 2024-07-17  29.3\n",
      "792 2024-07-18  27.8\n",
      "793 2024-07-19  27.3\n",
      "794 2024-07-20  28.3\n",
      "795 2024-07-21  27.8\n",
      "796 2024-07-22  30.3\n",
      "798 2024-07-24  27.3\n",
      "801 2024-07-27  28.3\n",
      "802 2024-07-28  28.3\n",
      "805 2024-07-31  27.3\n"
     ]
    },
    {
     "data": {
      "image/png": "[encoded data removed]",
      "text/plain": [
       "<Figure size 600x400 with 1 Axes>"
      ]
     },
     "metadata": {},
     "output_type": "display_data"
    }
   ],
   "source": [
    "%pip install fsspec\n",
    "import pandas as pd\n",
    "import matplotlib.pyplot as plt\n",
    "\n",
    "# File paths\n",
    "excel_2013 = \"C:/Users/Piotrek/Desktop/Studia/SPACE TECHNOLOGIES/RSAIAIST - Remote Sensing and Image Analysis in Space Tech/labsgit/notebooks/labs4/k_d_t_07_2013.csv\"\n",
    "excel_2024 = \"C:/Users/Piotrek/Desktop/Studia/SPACE TECHNOLOGIES/RSAIAIST - Remote Sensing and Image Analysis in Space Tech/labsgit/notebooks/labs4/k_d_07_2024.csv\"\n",
    "\n",
    "STRZYZOW_ID = 250240010\n",
    "\n",
    "\n",
    "def load_and_filter(file_path):\n",
    "    df = pd.read_csv(file_path, header=None, encoding='latin1', sep=',')\n",
    "    filtered = df[\n",
    "        (df[0] == STRZYZOW_ID) &\n",
    "        (df[5] > 27)\n",
    "    ]\n",
    "    filtered = filtered[[2, 3, 4, 5]]\n",
    "    filtered.columns = ['Year', 'Month', 'Day', 'TMAX']\n",
    "    filtered['Date'] = pd.to_datetime(filtered[['Year', 'Month', 'Day']])\n",
    "    return filtered\n",
    "\n",
    "hot_2013 = load_and_filter(excel_2013)\n",
    "hot_2024 = load_and_filter(excel_2024)\n",
    "\n",
    "print(f\"\\n2013: {len(hot_2013)} days with TMAX > 27°C\")\n",
    "print(hot_2013[['Date', 'TMAX']])\n",
    "\n",
    "print(f\"\\n2024: {len(hot_2024)} days with TMAX > 27°C\")\n",
    "print(hot_2024[['Date', 'TMAX']])\n",
    "\n",
    "plt.figure(figsize=(6, 4))\n",
    "plt.bar(['2013', '2024'], [len(hot_2013), len(hot_2024)])\n",
    "plt.ylabel('Days with TMAX > 27°C')\n",
    "plt.title('Hot Days in Strzyżów in July')\n",
    "plt.grid(axis='y', linestyle='--', alpha=0.7)\n",
    "plt.tight_layout()\n",
    "plt.show()"
   ]
  },
  {
   "cell_type": "markdown",
   "id": "c7f064e5",
   "metadata": {},
   "source": [
    "## Task 3: Select Landsat 8 Images Matching These Dates\n",
    "- In Earth Engine, use `LANDSAT/LC08/C02/T1_L2` collection.\n",
    "- Apply filters:\n",
    "  - `.filterBounds(aoi)`\n",
    "  - `.filterDate()` for the matching day\n",
    "  - `.filterMetadata('CLOUD_COVER', 'less_than', 20)`\n",
    "- Try to find **one image from 2013** and **one image from 2024** that match your hot days list."
   ]
  },
  {
   "cell_type": "code",
   "execution_count": 48,
   "id": "45e7cc45",
   "metadata": {},
   "outputs": [
    {
     "data": {
      "text/html": [
       "\n",
       "            <style>\n",
       "                .geemap-dark {\n",
       "                    --jp-widgets-color: white;\n",
       "                    --jp-widgets-label-color: white;\n",
       "                    --jp-ui-font-color1: white;\n",
       "                    --jp-layout-color2: #454545;\n",
       "                    background-color: #383838;\n",
       "                }\n",
       "\n",
       "                .geemap-dark .jupyter-button {\n",
       "                    --jp-layout-color3: #383838;\n",
       "                }\n",
       "\n",
       "                .geemap-colab {\n",
       "                    background-color: var(--colab-primary-surface-color, white);\n",
       "                }\n",
       "\n",
       "                .geemap-colab .jupyter-button {\n",
       "                    --jp-layout-color3: var(--colab-primary-surface-color, white);\n",
       "                }\n",
       "            </style>\n",
       "            "
      ],
      "text/plain": [
       "<IPython.core.display.HTML object>"
      ]
     },
     "metadata": {},
     "output_type": "display_data"
    },
    {
     "data": {
      "application/vnd.jupyter.widget-view+json": {
       "model_id": "a972ff943af6409f886fcf1d90182402",
       "version_major": 2,
       "version_minor": 0
      },
      "text/plain": [
       "Map(center=[49.871922783132604, 21.640471000000115], controls=(WidgetControl(options=['position', 'transparent…"
      ]
     },
     "execution_count": 48,
     "metadata": {},
     "output_type": "execute_result"
    }
   ],
   "source": [
    "import geemap \n",
    "start_2013 = ee.Date('2013-07-24') \n",
    "end_2013 = ee.Date('2013-07-25')\n",
    "start_2024 = ee.Date('2024-07-30') # one week of difference\n",
    "end_2024 = ee.Date('2024-07-31')\n",
    "\n",
    "image_2013 = ee.ImageCollection('LANDSAT/LC08/C02/T1_L2').filterBounds(aoi).filterDate(start_2013, end_2013).filterMetadata('CLOUD_COVER', 'less_than', 20).first()\n",
    "image_2024 = ee.ImageCollection('LANDSAT/LC09/C02/T1_L2').filterBounds(aoi).filterDate(start_2024, end_2024).filterMetadata('CLOUD_COVER', 'less_than', 20).first()\n",
    "image_2013 = image_2013.clip(aoi)\n",
    "image_2024 = image_2024.clip(aoi)\n",
    "\n",
    "\n",
    "vis_params = {\n",
    "    'bands': ['SR_B4', 'SR_B3', 'SR_B2'],\n",
    "    'min': 5000,\n",
    "    'max': 15000,\n",
    "    'gamma': 1.3\n",
    "}\n",
    "center = aoi.centroid(10).coordinates().reverse().getInfo()\n",
    "\n",
    "Map = geemap.Map(center=center, zoom=15)\n",
    "\n",
    "Map.addLayer(image_2013, vis_params, 'Landsat 2013-07-24')\n",
    "Map.addLayer(image_2024, vis_params, '2024-07-30')\n",
    "\n",
    "Map\n",
    "\n"
   ]
  },
  {
   "cell_type": "markdown",
   "id": "721a6015",
   "metadata": {},
   "source": [
    "## Task 4: Process Thermal Band (ST_B10)\n",
    "- Convert Band 10 to Brightness Temperature (Kelvin):\n",
    "  `TB = ST_B10 * 0.00341802 + 149.0`\n",
    "- Create a visualization of each image using the same color scale."
   ]
  },
  {
   "cell_type": "code",
   "execution_count": null,
   "id": "04b34616",
   "metadata": {},
   "outputs": [
    {
     "data": {
      "text/html": [
       "\n",
       "            <style>\n",
       "                .geemap-dark {\n",
       "                    --jp-widgets-color: white;\n",
       "                    --jp-widgets-label-color: white;\n",
       "                    --jp-ui-font-color1: white;\n",
       "                    --jp-layout-color2: #454545;\n",
       "                    background-color: #383838;\n",
       "                }\n",
       "\n",
       "                .geemap-dark .jupyter-button {\n",
       "                    --jp-layout-color3: #383838;\n",
       "                }\n",
       "\n",
       "                .geemap-colab {\n",
       "                    background-color: var(--colab-primary-surface-color, white);\n",
       "                }\n",
       "\n",
       "                .geemap-colab .jupyter-button {\n",
       "                    --jp-layout-color3: var(--colab-primary-surface-color, white);\n",
       "                }\n",
       "            </style>\n",
       "            "
      ],
      "text/plain": [
       "<IPython.core.display.HTML object>"
      ]
     },
     "metadata": {},
     "output_type": "display_data"
    },
    {
     "data": {
      "application/vnd.jupyter.widget-view+json": {
       "model_id": "36d84687f0d74f76a0e66cc7fd877dd6",
       "version_major": 2,
       "version_minor": 0
      },
      "text/plain": [
       "Map(center=[49.87169968218406, 21.790470999989275], controls=(WidgetControl(options=['position', 'transparent_…"
      ]
     },
     "execution_count": 43,
     "metadata": {},
     "output_type": "execute_result"
    }
   ],
   "source": [
    "\n",
    "bt_2013 = image_2013.select('ST_B10').multiply(0.00341802).add(149.0)\n",
    "bt_2024 = image_2024.select('ST_B10').multiply(0.00341802).add(149.0)\n",
    "\n",
    "\n",
    "thermal_vis = {\n",
    "    'min': 290,\n",
    "    'max': 320,\n",
    "    'palette': ['blue', 'green',  'red']\n",
    "}\n",
    "\n",
    "center = aoi.centroid(10).coordinates().reverse().getInfo()\n",
    "Map = geemap.Map(center=center, zoom=15)\n",
    "Map.addLayer(bt_2013, thermal_vis, '2013 Brightness Temp')\n",
    "Map.addLayer(bt_2024, thermal_vis, '2024 Brightness Temp')\n",
    "Map\n",
    "#i can see that in 2013 there was no clouds above this area, and thats why we get smaller temp in 2024 - because we are looking at cloud directly"
   ]
  },
  {
   "cell_type": "markdown",
   "id": "aa3b092a",
   "metadata": {},
   "source": [
    "## Task 5: Compare and Interpret\n",
    "- Compare the two maps.\n",
    "- Optionally calculate difference: `TB_2024 - TB_2013`\n",
    "- Discuss: did the surface temperature increase in the area?\n",
    "- Is there evidence of an Urban Heat Island effect related to development?"
   ]
  },
  {
   "cell_type": "code",
   "execution_count": null,
   "id": "ed003133",
   "metadata": {},
   "outputs": [
    {
     "data": {
      "text/html": [
       "\n",
       "            <style>\n",
       "                .geemap-dark {\n",
       "                    --jp-widgets-color: white;\n",
       "                    --jp-widgets-label-color: white;\n",
       "                    --jp-ui-font-color1: white;\n",
       "                    --jp-layout-color2: #454545;\n",
       "                    background-color: #383838;\n",
       "                }\n",
       "\n",
       "                .geemap-dark .jupyter-button {\n",
       "                    --jp-layout-color3: #383838;\n",
       "                }\n",
       "\n",
       "                .geemap-colab {\n",
       "                    background-color: var(--colab-primary-surface-color, white);\n",
       "                }\n",
       "\n",
       "                .geemap-colab .jupyter-button {\n",
       "                    --jp-layout-color3: var(--colab-primary-surface-color, white);\n",
       "                }\n",
       "            </style>\n",
       "            "
      ],
      "text/plain": [
       "<IPython.core.display.HTML object>"
      ]
     },
     "metadata": {},
     "output_type": "display_data"
    },
    {
     "name": "stdout",
     "output_type": "stream",
     "text": [
      "Average Brightness Temperature 2013 (K): {'ST_B10': 304.8946411027175}\n",
      "Average Brightness Temperature 2024 (K): {'ST_B10': 297.80753862195246}\n",
      "Difference (K): {'ST_B10': -7.087102480765286}\n"
     ]
    },
    {
     "data": {
      "application/vnd.jupyter.widget-view+json": {
       "model_id": "c122d9d10bde40ba8e9e645656b5a723",
       "version_major": 2,
       "version_minor": 0
      },
      "text/plain": [
       "Map(center=[49.87169968218406, 21.790470999989275], controls=(WidgetControl(options=['position', 'transparent_…"
      ]
     },
     "execution_count": 39,
     "metadata": {},
     "output_type": "execute_result"
    }
   ],
   "source": [
    "bt_diff = bt_2024.subtract(bt_2013)\n",
    "\n",
    "diff_vis = {\n",
    "    'min': -5,\n",
    "    'max': 5,\n",
    "    'palette': ['blue', 'white', 'red']  # Blue = cooler in 2024, Red = hotter in 2024\n",
    "}\n",
    "\n",
    "\n",
    "\n",
    "mean_2013 = bt_2013.reduceRegion(\n",
    "    reducer=ee.Reducer.mean(),\n",
    "    geometry=aoi,\n",
    "    scale=30,\n",
    "    maxPixels=1e9\n",
    ").getInfo()\n",
    "\n",
    "mean_2024 = bt_2024.reduceRegion(\n",
    "    reducer=ee.Reducer.mean(),\n",
    "    geometry=aoi,\n",
    "    scale=30,\n",
    "    maxPixels=1e9\n",
    ").getInfo()\n",
    "\n",
    "mean_diff = bt_diff.reduceRegion(\n",
    "    reducer=ee.Reducer.mean(),\n",
    "    geometry=aoi,\n",
    "    scale=30,\n",
    "    maxPixels=1e9\n",
    ").getInfo()\n",
    "\n",
    "print(\"Average Brightness Temperature 2013 (K):\", mean_2013)\n",
    "print(\"Average Brightness Temperature 2024 (K):\", mean_2024)\n",
    "print(\"Difference (K):\", mean_diff)\n",
    "\n",
    "\n",
    "center = aoi.centroid(10).coordinates().reverse().getInfo()\n",
    "Map = geemap.Map(center=center, zoom=15)\n",
    "\n",
    "\n",
    "Map.addLayer(bt_diff, diff_vis, 'Temperature Difference (2024 - 2013)')\n",
    "\n",
    "\n",
    "Map\n",
    "#same story with these clouds :( (even despite filtering)"
   ]
  }
 ],
 "metadata": {
  "kernelspec": {
   "display_name": "eo_lab",
   "language": "python",
   "name": "python3"
  },
  "language_info": {
   "codemirror_mode": {
    "name": "ipython",
    "version": 3
   },
   "file_extension": ".py",
   "mimetype": "text/x-python",
   "name": "python",
   "nbconvert_exporter": "python",
   "pygments_lexer": "ipython3",
   "version": "3.9.21"
  }
 },
 "nbformat": 4,
 "nbformat_minor": 5
}
