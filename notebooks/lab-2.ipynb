{
 "cells": [
  {
   "cell_type": "markdown",
   "id": "c115edb2",
   "metadata": {},
   "source": [
    "# Exercise 2: Vegetation Index Analysis\n",
    "In this exercise, you will analyze vegetation changes within one growing season in a selected agricultural region (Kujawy, Poland)."
   ]
  },
  {
   "cell_type": "markdown",
   "id": "1761c7f1",
   "metadata": {},
   "source": [
    "## Task 1: Define AOI\n",
    "Create an Area of Interest (AOI) using the coordinates provided below."
   ]
  },
  {
   "cell_type": "code",
   "execution_count": 39,
   "id": "9f4c98f3",
   "metadata": {},
   "outputs": [
    {
     "data": {
      "text/html": [
       "\n",
       "            <style>\n",
       "                .geemap-dark {\n",
       "                    --jp-widgets-color: white;\n",
       "                    --jp-widgets-label-color: white;\n",
       "                    --jp-ui-font-color1: white;\n",
       "                    --jp-layout-color2: #454545;\n",
       "                    background-color: #383838;\n",
       "                }\n",
       "\n",
       "                .geemap-dark .jupyter-button {\n",
       "                    --jp-layout-color3: #383838;\n",
       "                }\n",
       "\n",
       "                .geemap-colab {\n",
       "                    background-color: var(--colab-primary-surface-color, white);\n",
       "                }\n",
       "\n",
       "                .geemap-colab .jupyter-button {\n",
       "                    --jp-layout-color3: var(--colab-primary-surface-color, white);\n",
       "                }\n",
       "            </style>\n",
       "            "
      ],
      "text/plain": [
       "<IPython.core.display.HTML object>"
      ]
     },
     "metadata": {},
     "output_type": "display_data"
    }
   ],
   "source": [
    "# TODO: Define AOI\n",
    "import ee\n",
    "import geemap\n",
    "ee.Authenticate()\n",
    "ee.Initialize(project='ee-piotrkrajewski')\n",
    "aoi = ee.Geometry.Rectangle([21.446541, 49.795067, 21.569165, 49.859693])\n"
   ]
  },
  {
   "cell_type": "markdown",
   "id": "44ec57e7",
   "metadata": {},
   "source": [
    "## Task 2: Retrieve Sentinel-2 Imagery\n",
    "Retrieve two Sentinel-2 satellite images from the following dates: 2023-04-01 and 2023-07-01."
   ]
  },
  {
   "cell_type": "code",
   "execution_count": 40,
   "id": "cd32529c",
   "metadata": {},
   "outputs": [
    {
     "data": {
      "text/html": [
       "\n",
       "            <style>\n",
       "                .geemap-dark {\n",
       "                    --jp-widgets-color: white;\n",
       "                    --jp-widgets-label-color: white;\n",
       "                    --jp-ui-font-color1: white;\n",
       "                    --jp-layout-color2: #454545;\n",
       "                    background-color: #383838;\n",
       "                }\n",
       "\n",
       "                .geemap-dark .jupyter-button {\n",
       "                    --jp-layout-color3: #383838;\n",
       "                }\n",
       "\n",
       "                .geemap-colab {\n",
       "                    background-color: var(--colab-primary-surface-color, white);\n",
       "                }\n",
       "\n",
       "                .geemap-colab .jupyter-button {\n",
       "                    --jp-layout-color3: var(--colab-primary-surface-color, white);\n",
       "                }\n",
       "            </style>\n",
       "            "
      ],
      "text/plain": [
       "<IPython.core.display.HTML object>"
      ]
     },
     "metadata": {},
     "output_type": "display_data"
    }
   ],
   "source": [
    "# TODO: Retrieve Sentinel-2 images for the selected dates.\n",
    "sentinel2april = ee.ImageCollection('COPERNICUS/S2_HARMONIZED')\\\n",
    "    .filterDate('2023-04-01', '2024-04-01') \\\n",
    "    .filterBounds(aoi)\\\n",
    "    .sort('CLOUDY_PIXEL_PERCENTAGE')\n",
    "\n",
    "\n",
    "#(sentinel2.size().getInfo())\n",
    "#image = ...\n",
    "imageapril = sentinel2april.first()\n",
    "imageapril=imageapril.clip(aoi)\n",
    "# TODO: Retrieve Sentinel-2 images for the selected dates.\n",
    "sentinel2july = ee.ImageCollection('COPERNICUS/S2_HARMONIZED')\\\n",
    "    .filterDate('2023-07-01', '2024-07-01') \\\n",
    "    .filterBounds(aoi)\\\n",
    "    .sort('CLOUDY_PIXEL_PERCENTAGE')\n",
    "\n",
    "imagejuly = sentinel2july.first()\n",
    "imagejuly=imagejuly.clip(aoi)\n"
   ]
  },
  {
   "cell_type": "markdown",
   "id": "e0d5a72c",
   "metadata": {},
   "source": [
    "## Task 3: Calculate NDVI\n",
    "Calculate the Normalized Difference Vegetation Index (NDVI) for both images."
   ]
  },
  {
   "cell_type": "code",
   "execution_count": 41,
   "id": "5454dd10",
   "metadata": {},
   "outputs": [
    {
     "data": {
      "text/html": [
       "\n",
       "            <style>\n",
       "                .geemap-dark {\n",
       "                    --jp-widgets-color: white;\n",
       "                    --jp-widgets-label-color: white;\n",
       "                    --jp-ui-font-color1: white;\n",
       "                    --jp-layout-color2: #454545;\n",
       "                    background-color: #383838;\n",
       "                }\n",
       "\n",
       "                .geemap-dark .jupyter-button {\n",
       "                    --jp-layout-color3: #383838;\n",
       "                }\n",
       "\n",
       "                .geemap-colab {\n",
       "                    background-color: var(--colab-primary-surface-color, white);\n",
       "                }\n",
       "\n",
       "                .geemap-colab .jupyter-button {\n",
       "                    --jp-layout-color3: var(--colab-primary-surface-color, white);\n",
       "                }\n",
       "            </style>\n",
       "            "
      ],
      "text/plain": [
       "<IPython.core.display.HTML object>"
      ]
     },
     "metadata": {},
     "output_type": "display_data"
    }
   ],
   "source": [
    "# TODO: Calculate NDVI for both images (Choose the appropriate S-2 bands).\n",
    "\n",
    "#metadata = imagejuly.getInfo()\n",
    "#print(metadata)\n",
    "ndvi_april = imageapril.normalizedDifference(['B8', 'B4']).rename('NDVI_April')\n",
    "ndvi_july = imagejuly.normalizedDifference(['B8', 'B4']).rename('NDVI_July')\n",
    "\n",
    "\n",
    "\n"
   ]
  },
  {
   "cell_type": "markdown",
   "id": "92023a75",
   "metadata": {},
   "source": [
    "## Task 4: Compare NDVI\n",
    "Display both NDVI indices on the map and calculate and visualize their difference."
   ]
  },
  {
   "cell_type": "code",
   "execution_count": 42,
   "id": "bc2f4d29",
   "metadata": {},
   "outputs": [
    {
     "data": {
      "text/html": [
       "\n",
       "            <style>\n",
       "                .geemap-dark {\n",
       "                    --jp-widgets-color: white;\n",
       "                    --jp-widgets-label-color: white;\n",
       "                    --jp-ui-font-color1: white;\n",
       "                    --jp-layout-color2: #454545;\n",
       "                    background-color: #383838;\n",
       "                }\n",
       "\n",
       "                .geemap-dark .jupyter-button {\n",
       "                    --jp-layout-color3: #383838;\n",
       "                }\n",
       "\n",
       "                .geemap-colab {\n",
       "                    background-color: var(--colab-primary-surface-color, white);\n",
       "                }\n",
       "\n",
       "                .geemap-colab .jupyter-button {\n",
       "                    --jp-layout-color3: var(--colab-primary-surface-color, white);\n",
       "                }\n",
       "            </style>\n",
       "            "
      ],
      "text/plain": [
       "<IPython.core.display.HTML object>"
      ]
     },
     "metadata": {},
     "output_type": "display_data"
    }
   ],
   "source": [
    "# TODO: Compare NDVI, visualize the differences, and analyze vegetation changes.\n",
    "false_color_ndvi_vis = {\n",
    "    'min': -1,\n",
    "    'max': 1,\n",
    "    'palette': ['blue', 'cyan', 'yellow', 'red']  \n",
    "}\n",
    "# TODO: Add these layers to an interactive map\n",
    "\n",
    "false_color_ndvi_difference = {\n",
    "    'min': -1,\n",
    "    'max': 1,\n",
    "    'palette': ['white', 'cyan', 'blue']  \n",
    "}\n",
    "\n",
    "ndvi_difference=ndvi_april.subtract(ndvi_july)\n",
    "\n",
    "\n",
    "ndvi_palette = ['blue', 'white', 'green']\n",
    "# Map = geemap.Map()\n",
    "# Map\n",
    "# Map.addLayer(ndvi_april, false_color_ndvi_vis, 'NDVI April')\n",
    "# Map.addLayer(ndvi_july, false_color_ndvi_vis, 'NDVI July')\n",
    "# Map.addLayer(ndvi_difference, false_color_ndvi_difference, 'NDVI Difference')\n",
    "# #Map.addLayer(ndvi_july, {'min': -1, 'max': 1, 'palette': ndvi_palette}, 'NDVI July')\n",
    "# Map.centerObject(imageapril, 8)\n",
    "# Map\n"
   ]
  },
  {
   "cell_type": "markdown",
   "id": "22cab30e",
   "metadata": {},
   "source": [
    "## Task 5: Interpret the Results\n",
    "Briefly describe the meaning of the observed NDVI changes within the analyzed period."
   ]
  },
  {
   "cell_type": "code",
   "execution_count": 36,
   "id": "c5d0d661",
   "metadata": {},
   "outputs": [
    {
     "data": {
      "text/html": [
       "\n",
       "            <style>\n",
       "                .geemap-dark {\n",
       "                    --jp-widgets-color: white;\n",
       "                    --jp-widgets-label-color: white;\n",
       "                    --jp-ui-font-color1: white;\n",
       "                    --jp-layout-color2: #454545;\n",
       "                    background-color: #383838;\n",
       "                }\n",
       "\n",
       "                .geemap-dark .jupyter-button {\n",
       "                    --jp-layout-color3: #383838;\n",
       "                }\n",
       "\n",
       "                .geemap-colab {\n",
       "                    background-color: var(--colab-primary-surface-color, white);\n",
       "                }\n",
       "\n",
       "                .geemap-colab .jupyter-button {\n",
       "                    --jp-layout-color3: var(--colab-primary-surface-color, white);\n",
       "                }\n",
       "            </style>\n",
       "            "
      ],
      "text/plain": [
       "<IPython.core.display.HTML object>"
      ]
     },
     "metadata": {},
     "output_type": "display_data"
    }
   ],
   "source": [
    "# TODO: Provide your interpretation here in a Markdown cell.\n",
    "#In this case there, where is the dark blue color there were vegetation changes (like crops growing), there with light blue was just normaln changes (naturall grass etc) \n",
    "# and on white colour there were almost no changes (buildings, asphalt)"
   ]
  },
  {
   "cell_type": "markdown",
   "id": "c968b686",
   "metadata": {},
   "source": [
    "## Task 6: False Color Composite for Vegetation Condition Assessment\n",
    "Add false-color composites (NIR, RED, GREEN) for both dates to the map for visual assessment of vegetation condition."
   ]
  },
  {
   "cell_type": "code",
   "execution_count": 43,
   "id": "f6c53f4d",
   "metadata": {},
   "outputs": [
    {
     "data": {
      "text/html": [
       "\n",
       "            <style>\n",
       "                .geemap-dark {\n",
       "                    --jp-widgets-color: white;\n",
       "                    --jp-widgets-label-color: white;\n",
       "                    --jp-ui-font-color1: white;\n",
       "                    --jp-layout-color2: #454545;\n",
       "                    background-color: #383838;\n",
       "                }\n",
       "\n",
       "                .geemap-dark .jupyter-button {\n",
       "                    --jp-layout-color3: #383838;\n",
       "                }\n",
       "\n",
       "                .geemap-colab {\n",
       "                    background-color: var(--colab-primary-surface-color, white);\n",
       "                }\n",
       "\n",
       "                .geemap-colab .jupyter-button {\n",
       "                    --jp-layout-color3: var(--colab-primary-surface-color, white);\n",
       "                }\n",
       "            </style>\n",
       "            "
      ],
      "text/plain": [
       "<IPython.core.display.HTML object>"
      ]
     },
     "metadata": {},
     "output_type": "display_data"
    },
    {
     "data": {
      "application/vnd.jupyter.widget-view+json": {
       "model_id": "229d283ccda349b6af0bfa9470afaea0",
       "version_major": 2,
       "version_minor": 0
      },
      "text/plain": [
       "Map(center=[49.82729314721237, 21.508054419980237], controls=(WidgetControl(options=['position', 'transparent_…"
      ]
     },
     "execution_count": 43,
     "metadata": {},
     "output_type": "execute_result"
    }
   ],
   "source": [
    "# TODO: Create a false-color composite (NIR, RED, GREEN) and add it to the map\n",
    "vegetation_viz = {'bands': ['B8', 'B4', 'B3'], 'min': 0, 'max': 4000}\n",
    "# Add Sentinel-2 images for both dates to the map using this composite.\n",
    "Map = geemap.Map()\n",
    "Map\n",
    "Map.addLayer(ndvi_april, false_color_ndvi_vis, 'NDVI April')\n",
    "Map.addLayer(ndvi_july, false_color_ndvi_vis, 'NDVI July')\n",
    "Map.addLayer(ndvi_difference, false_color_ndvi_difference, 'NDVI Difference')\n",
    "Map.addLayer(imageapril, vegetation_viz, 'VCAapril')\n",
    "Map.addLayer(imagejuly, vegetation_viz, 'VCAjuly')\n",
    "#Map.addLayer(ndvi_july, {'min': -1, 'max': 1, 'palette': ndvi_palette}, 'NDVI July')\n",
    "Map.centerObject(imageapril, 8)\n",
    "Map"
   ]
  }
 ],
 "metadata": {
  "kernelspec": {
   "display_name": "eo_lab",
   "language": "python",
   "name": "python3"
  },
  "language_info": {
   "codemirror_mode": {
    "name": "ipython",
    "version": 3
   },
   "file_extension": ".py",
   "mimetype": "text/x-python",
   "name": "python",
   "nbconvert_exporter": "python",
   "pygments_lexer": "ipython3",
   "version": "3.9.21"
  }
 },
 "nbformat": 4,
 "nbformat_minor": 5
}
